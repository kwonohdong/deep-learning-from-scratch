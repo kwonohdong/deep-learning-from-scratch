{
 "cells": [
  {
   "cell_type": "markdown",
   "metadata": {},
   "source": [
    "# 퍼셉트론\n",
    "---\n",
    "**퍼셉트론**은 프랑크 로젠블라트가 1957년 고안한 알고리즘이다.  \n",
    "이 알고리즘은 신경망(딥러닝)의 기원이되는 알고리즘이다."
   ]
  },
  {
   "cell_type": "markdown",
   "metadata": {},
   "source": [
    "## 2.1 퍼셉트론이란?\n",
    "퍼셉트론은 다수의 신호를 입력으로 받아 하나의 신호를 출력한다. 여기서 말하는 **신호**란 전류나 강물처럼 **흐름**이 있는 것을 상상하면 좋다.  \n",
    "다만 퍼셉트론 신호는 '흐른다/안 흐른다(1이나 0)'의 두 가지 값을 가진다."
   ]
  },
  {
   "cell_type": "markdown",
   "metadata": {},
   "source": [
    "예를 들어, 2개의 입력으로 1개의 출력이 일어난다고 하자.  \n",
    "이때, $x_1$과 $x_2$는 입력 신호, $y$는 출력 신호, $w_1$과 $w_2$는 가중치를 뜻한다.\n",
    "\n",
    "이때 입력 신호를 **뉴런** 혹은 **노드**라고 한다. 입력 신호가 뉴런에 보내질 때는 각각 고유한 **가중치**가 곱해진다.\n",
    "뉴런에서 보내온 신호의 총합이 정해진 한계를 넘어설 때만 1을 출력한다(이를 '뉴런이 활성화한다'라 표현함).  \n",
    "이 한계를 **임계값**이라 하며, $\\theta$기호<sup>theta, 세타</sup> 로 표현한다.\n",
    "\n",
    "$\n",
    "y=\n",
    "\\begin{cases}\n",
    "0 & (w_1x_1 + w_2x_2 \\le \\theta) \\\\\n",
    "1 & (w_1x_1 + w_2x_2 > \\theta)\n",
    "\\end{cases}\n",
    "$\n",
    "\n",
    "퍼셉트론은 복수의 입력 신호 각각에 고유한 가중치를 부여한다. 가중치는 각 신호가 결과에 주는 영향력을 조절하는 요소로 작용한다.  \n",
    "즉, 가중치가 클수록 해당 신호가 그만큼 더 중요함을 뜻한다.\n",
    "\n",
    "**※ NOTE**  \n",
    "가중치는 전류에서 말하는 **저항**에 해당한다. 저항이 낮을수록 전류는 더 세게 흐른다.  \n",
    "한편 퍼셉트론의 가중치는 그 값이 클수록 강한 신호를 보낸다. 이처럼 작용하는 방향은 반대지만 신호가 얼마나 잘 흐르는가를 통제하는 점에서 저항과 가중치는 같은 기능을 한다."
   ]
  },
  {
   "cell_type": "markdown",
   "metadata": {},
   "source": [
    "## 2.2 단순한 논리회로\n",
    "### 2.2.1 AND 게이트\n",
    "- AND 게이트  \n",
    "$\n",
    "\\begin{array}\n",
    "{|c|c|c|} x_1 & x_2 & y \\\\\n",
    "\\hline\n",
    "0&0&0\\\\\n",
    "0&1&0\\\\\n",
    "1&0&0\\\\\n",
    "1&1&1\\\\\n",
    "\\end{array}\n",
    "$"
   ]
  },
  {
   "cell_type": "markdown",
   "metadata": {},
   "source": [
    "### 2.2.2 NAND 게이트와 OR 게이트\n",
    "- NAND 게이트  \n",
    "$\n",
    "\\begin{array}\n",
    "{|c|c|c|} x_1 & x_2 & y \\\\\n",
    "\\hline\n",
    "0&0&1\\\\\n",
    "0&1&1\\\\\n",
    "1&0&1\\\\\n",
    "1&1&0\\\\\n",
    "\\end{array}\n",
    "$\n",
    "\n",
    "- OR 게이트  \n",
    "$\n",
    "\\begin{array}\n",
    "{|c|c|c|} x_1 & x_2 & y \\\\\n",
    "\\hline\n",
    "0&0&0\\\\\n",
    "0&1&1\\\\\n",
    "1&0&1\\\\\n",
    "1&1&1\\\\\n",
    "\\end{array}\n",
    "$"
   ]
  },
  {
   "cell_type": "markdown",
   "metadata": {},
   "source": [
    "## 2.3 퍼셉트론 구현하기\n",
    "### 2.3.1 간단한 구현부터"
   ]
  },
  {
   "cell_type": "code",
   "execution_count": 1,
   "metadata": {},
   "outputs": [],
   "source": [
    "def AND(x1, x2):\n",
    "    w1, w2, theta = 0.5, 0.5, 0.7\n",
    "    tmp = x1*w1 + x2*w2\n",
    "    \n",
    "    if tmp <= theta:\n",
    "        return 0\n",
    "    else:\n",
    "        return 1"
   ]
  },
  {
   "cell_type": "code",
   "execution_count": 3,
   "metadata": {},
   "outputs": [
    {
     "name": "stdout",
     "output_type": "stream",
     "text": [
      "0\n",
      "0\n",
      "0\n",
      "1\n"
     ]
    }
   ],
   "source": [
    "print(AND(0, 0))\n",
    "print(AND(0, 1))\n",
    "print(AND(1, 0))\n",
    "print(AND(1, 1))"
   ]
  },
  {
   "cell_type": "markdown",
   "metadata": {},
   "source": [
    "### 2.3.2 가중치와 편향 도입\n",
    "위의 퍼셉트론 식의 $\\theta$를 $-b$로 치환하면 다음과 같은 식으로 표현된다.  \n",
    "$\n",
    "y=\n",
    "\\begin{cases}\n",
    "0 & (b + w_1x_1 + w_2x_2 \\le 0) \\\\\n",
    "1 & (b + w_1x_1 + w_2x_2 > 0)\n",
    "\\end{cases}\n",
    "$\n",
    "\n",
    "여기에서 $b$를 **편향**<sup>bias</sup>이라 하며 $w_1$과 $w_2$는 그대로 가중치<sup>weight</sup>이다."
   ]
  },
  {
   "cell_type": "code",
   "execution_count": 5,
   "metadata": {},
   "outputs": [
    {
     "data": {
      "text/plain": [
       "array([0. , 0.5])"
      ]
     },
     "metadata": {},
     "output_type": "display_data"
    },
    {
     "data": {
      "text/plain": [
       "0.5"
      ]
     },
     "metadata": {},
     "output_type": "display_data"
    },
    {
     "data": {
      "text/plain": [
       "-0.19999999999999996"
      ]
     },
     "metadata": {},
     "output_type": "display_data"
    }
   ],
   "source": [
    "import numpy as np\n",
    "\n",
    "x = np.array([0, 1])\n",
    "w = np.array([0.5, 0.5])\n",
    "b = -0.7\n",
    "\n",
    "display(w*x)\n",
    "display(np.sum(w*x))\n",
    "display(np.sum(w*x) + b)"
   ]
  },
  {
   "cell_type": "markdown",
   "metadata": {},
   "source": [
    "### 2.3.3 가중치와 편향 구하기\n",
    "'가중치와 편향을 도입'한 AND 게이트는 다음과 같이 구할 수 있다."
   ]
  },
  {
   "cell_type": "code",
   "execution_count": 23,
   "metadata": {},
   "outputs": [],
   "source": [
    "def AND(x1, x2):\n",
    "    x = np.array([x1, x2])\n",
    "    w = np.array([0.5, 0.5])\n",
    "    b = -0.7\n",
    "    tmp = np.sum(w*x) + b\n",
    "#     print(tmp)\n",
    "    if tmp <= 0:\n",
    "        return 0\n",
    "    else:\n",
    "        return 1"
   ]
  },
  {
   "cell_type": "markdown",
   "metadata": {},
   "source": [
    "위에서 보듯이 **편향**은 뉴런이 얼마나 쉽게 활성화 하는지 조정하는 매개변수이다."
   ]
  },
  {
   "cell_type": "code",
   "execution_count": 24,
   "metadata": {},
   "outputs": [
    {
     "name": "stdout",
     "output_type": "stream",
     "text": [
      "0\n",
      "0\n",
      "0\n",
      "1\n"
     ]
    }
   ],
   "source": [
    "print(AND(0, 0))\n",
    "print(AND(0, 1))\n",
    "print(AND(1, 0))\n",
    "print(AND(1, 1))"
   ]
  },
  {
   "cell_type": "code",
   "execution_count": 21,
   "metadata": {},
   "outputs": [],
   "source": [
    "def NAND(x1, x2):\n",
    "    x = np.array([x1, x2])\n",
    "    w = np.array([-0.5, -0.5])\n",
    "    b = 0.7\n",
    "    tmp = np.sum(w*x) + b\n",
    "#     print(tmp)\n",
    "    if tmp <= 0:\n",
    "        return 0\n",
    "    else:\n",
    "        return 1"
   ]
  },
  {
   "cell_type": "code",
   "execution_count": 22,
   "metadata": {},
   "outputs": [
    {
     "name": "stdout",
     "output_type": "stream",
     "text": [
      "1\n",
      "1\n",
      "1\n",
      "0\n"
     ]
    }
   ],
   "source": [
    "print(NAND(0, 0))\n",
    "print(NAND(0, 1))\n",
    "print(NAND(1, 0))\n",
    "print(NAND(1, 1))"
   ]
  },
  {
   "cell_type": "code",
   "execution_count": 19,
   "metadata": {},
   "outputs": [],
   "source": [
    "def OR(x1, x2):\n",
    "    x = np.array([x1, x2])\n",
    "    w = np.array([0.5, 0.5])\n",
    "    b = -0.2\n",
    "    tmp = np.sum(w*x) + b\n",
    "#     print(tmp)\n",
    "    if tmp <= 0:\n",
    "        return 0\n",
    "    else:\n",
    "        return 1"
   ]
  },
  {
   "cell_type": "code",
   "execution_count": 20,
   "metadata": {},
   "outputs": [
    {
     "name": "stdout",
     "output_type": "stream",
     "text": [
      "0\n",
      "1\n",
      "1\n",
      "1\n"
     ]
    }
   ],
   "source": [
    "print(OR(0, 0))\n",
    "print(OR(0, 1))\n",
    "print(OR(1, 0))\n",
    "print(OR(1, 1))"
   ]
  },
  {
   "cell_type": "markdown",
   "metadata": {},
   "source": [
    "## 2.4 퍼셉트론의 한계\n",
    "### 2.4.1 XOR 게이트\n",
    "- XOR 게이트  \n",
    "$\n",
    "\\begin{array}\n",
    "{|c|c|c|} x_1 & x_2 & y \\\\\n",
    "\\hline\n",
    "0&0&0\\\\\n",
    "0&1&1\\\\\n",
    "1&0&1\\\\\n",
    "1&1&0\\\\\n",
    "\\end{array}\n",
    "$\n",
    "\n",
    "지금까지 살펴본 퍼셉트론으로는 XOR 게이트를 구현할 수 없다.  \n",
    "OR 게이트는, 예를들어 편향ㆍ가중치가 $(b, w_1, w_2) = (-0.5, 1.0, 1.0)$일 때 다음 진리표를 만족한다.\n",
    "\n",
    "$\n",
    "y=\n",
    "\\begin{cases}\n",
    "0 & (-0.5 + x_1 + x_2 \\le 0) \\\\\n",
    "1 & (-0.5 + x_1 + x_2 > 0)\n",
    "\\end{cases}\n",
    "$\n",
    "\n",
    "하지만 XOR 게이트에서 $(x_1, x_2)$ = (1, 1) 일 때, 0 을 만족할 수 없으므로 구현할 수 없다."
   ]
  },
  {
   "cell_type": "markdown",
   "metadata": {},
   "source": [
    "### 2.4.2 선형과 비선형\n",
    "퍼셉트론은 직선 하나로 나눈 영역만 표현할 수 있다는 한계가 있다.  \n",
    "\n",
    "- 직선의 영역을 **선형** 영역\n",
    "- 곡선의 영역을 **비선형** 영역"
   ]
  },
  {
   "cell_type": "markdown",
   "metadata": {},
   "source": [
    "## 2.5 다층 퍼셉트론이라면?\n",
    "퍼셉트론만으로는 XOR 게이트를 표현할 수 없다. 하지만 '층을 쌓아' **다층 퍼셉트론**<sup>multi-layer perceptron</sup>을 만들 수 있다.\n",
    "\n",
    "### 2.5.1 기존 게이트 조합하기\n",
    "- XOR 게이트  \n",
    "$\n",
    "\\begin{array}\n",
    "{|c|c|c|c|c|} x_1 & x_2 & s_1 & s_2 & y \\\\\n",
    "\\hline\n",
    "0&0&1&0&0\\\\\n",
    "1&0&1&1&1\\\\\n",
    "0&1&1&1&1\\\\\n",
    "1&1&0&1&0\\\\\n",
    "\\end{array}\n",
    "$\n",
    "\n",
    "$x_1$ NAND $x_2$ → $s_1$  \n",
    "$x_1$ OR   $x_2$ → $s_2$  \n",
    "$s_1$ AND  $s_2$ → y"
   ]
  },
  {
   "cell_type": "code",
   "execution_count": 27,
   "metadata": {},
   "outputs": [],
   "source": [
    "def XOR(x1, x2):\n",
    "    s1 = NAND(x1, x2)\n",
    "    s2 = OR(x1, x2)\n",
    "    y = AND(s1, s2)\n",
    "    return y"
   ]
  },
  {
   "cell_type": "code",
   "execution_count": 28,
   "metadata": {},
   "outputs": [
    {
     "name": "stdout",
     "output_type": "stream",
     "text": [
      "0\n",
      "1\n",
      "1\n",
      "0\n"
     ]
    }
   ],
   "source": [
    "print(XOR(0, 0))\n",
    "print(XOR(0, 1))\n",
    "print(XOR(1, 0))\n",
    "print(XOR(1, 1))"
   ]
  }
 ],
 "metadata": {
  "kernelspec": {
   "display_name": "Python 3",
   "language": "python",
   "name": "python3"
  },
  "language_info": {
   "codemirror_mode": {
    "name": "ipython",
    "version": 3
   },
   "file_extension": ".py",
   "mimetype": "text/x-python",
   "name": "python",
   "nbconvert_exporter": "python",
   "pygments_lexer": "ipython3",
   "version": "3.7.1"
  }
 },
 "nbformat": 4,
 "nbformat_minor": 2
}
