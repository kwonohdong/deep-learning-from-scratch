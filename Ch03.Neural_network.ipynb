{
 "cells": [
  {
   "cell_type": "code",
   "execution_count": 2,
   "metadata": {},
   "outputs": [],
   "source": [
    "import numpy as np\n",
    "import matplotlib.pyplot as plt"
   ]
  },
  {
   "cell_type": "markdown",
   "metadata": {},
   "source": [
    "# 신경망\n",
    "---\n",
    "## 3.1 퍼셉트론에서 신경망으로\n",
    "신경망은 가장 왼쪽 줄을 **입력층**, 맨 오른쪽 줄을 **출력층**, 중간 줄을 **은닉층** 이라고 한다.  \n",
    "\n",
    "### 3.1.1 신경망의 예\n",
    "만약 3줄의 입력층, 은닉층, 출력층이 있다고 가정할 때, 가중치를 갖는 층은 2개뿐이기 때문에 2층 신경망이라고 한다.  \n",
    "\n",
    "### 3.1.2 퍼셉트론 복습\n",
    "다음 식은 $x_1$과 $x_2$라는 두 신호를 입력받아 $y$를 출력하는 퍼셉트론이다.\n",
    "\n",
    "**[식 3.1]**  \n",
    "$\n",
    "y=\n",
    "\\begin{cases}\n",
    "0 & (b + w_1x_1 + w_2x_2 \\le 0) \\\\\n",
    "1 & (b + w_1x_1 + w_2x_2 > 0)\n",
    "\\end{cases}\n",
    "$\n",
    "\n",
    "여기서 b 는 **편향**을 나타내는 매개변수로, 뉴런이 얼마나 쉽게 활성화되느냐를 제어한다.  \n",
    "한편, $w_1$과 $w_2$는 각 신호의 **가중치**를 나타내는 매개변수로, 각 신호의 영향력을 제어한다.\n",
    "\n",
    "위의 식을 조금 더, 간결하게 작성해보자.  \n",
    "\n",
    "**[식 3.2]**  \n",
    "$\n",
    "y = h(b + w_1x_1 + w_2x_2)\n",
    "$\n",
    "\n",
    "**[식 3.3]**  \n",
    "$\n",
    "h(x) = \n",
    "\\begin{cases}\n",
    "0 & (x \\le 0) \\\\\n",
    "1 & (x > 0)\n",
    "\\end{cases}\n",
    "$\n",
    "\n",
    "입력 신호의 총합이 $h(x)$라는 함수를 거쳐 변환되어, 그 변환된 값이 y의 출력이 됨을 보여준다.  \n",
    "\n",
    "### 3.1.3 활성화 함수의 등장\n",
    "조금 전 $h(x)$라는 함수가 등장했는데, 이처럼 입력 신호의 총합을 출력 신호로 변환하는 함수를 일반적으로 **활성화 함수**<sup>activation function</sup>라 한다.\n",
    "[식 3.2]를 다시 써보면 다음과 같이 2단계로 나눌 수 있다.\n",
    "\n",
    "**[식 3.4]**  \n",
    "$a = b + w_1x_1 + w_2x_2$\n",
    "\n",
    "**[식 3.5]**  \n",
    "$y = h(a)$\n",
    "\n",
    "즉, 가중치 신호를 조합한 결과가 a라는 노드가 되고, 활성화 함수 h()를 통과하여 y라는 노드로 변환되는 과정이다.  \n",
    "뉴런과 노드는 동일한 의미이다.\n",
    "\n",
    "**※ 주의사항**\n",
    "- **단순 퍼셉트론**은 단층 네트워크에서 계단 함수(임계값을 경계로 출력이 바뀌는 함수)를 활성화 함수로 사용한 모델을 의미.\n",
    "- **다층 퍼셉트론**은 신경망(여러 층으로 구성되고 시그모이드 함수 등의 매끈한 활성화 함수를 사용하는 네트워크)을 의미."
   ]
  },
  {
   "cell_type": "markdown",
   "metadata": {},
   "source": [
    "## 3.2 활성화 함수\n",
    "**[식 3.3]** 과 같은 활성화 함수는 임계값을 경계로 출력이 바뀌는데, 이런 함수를 **계단 함수**<sup>step function</sup>라 한다.  \n",
    "그래서 \"퍼셉트론에서는 활성화 함수로 계단 함수를 사용한다.\"라고 할 수 있다.  \n",
    "\n",
    "### 3.2.1 시그모이드 함수\n",
    "다음은 신경망에서 자주 이용하는 활성화 함수인 **시그모이드 함수**<sup>sigmoid function</sup>를 나타낸 식이다.\n",
    "\n",
    "**[식 3.6]**  \n",
    "$\n",
    "\\begin{align}\n",
    "h(x)=\\frac{1}{1+exp(-x)}\n",
    "\\end{align}\n",
    "$\n",
    "\n",
    "[식 3.6]에서 exp(-x)는 $e^{-x}$를 뜻하며, e는 자연상수로 2.7182... 의 값을 갖는 실수다.  \n",
    "앞서 이야기한 퍼셉트론과 신경망의 주된 차이는 이 활성화 함수다.  \n",
    "\n",
    "### 3.2.2 계단 함수 구현하기\n",
    "계단 함수는 [식3.3]과 같이 입력이 0을 넘으면 1을 출력하고, 그 외에는 0을 출력하는 함수이다."
   ]
  },
  {
   "cell_type": "code",
   "execution_count": 19,
   "metadata": {},
   "outputs": [],
   "source": [
    "def step_function(x):\n",
    "    if x > 0:\n",
    "        return 1\n",
    "    else:\n",
    "        return 0"
   ]
  },
  {
   "cell_type": "code",
   "execution_count": 21,
   "metadata": {},
   "outputs": [
    {
     "data": {
      "text/plain": [
       "1"
      ]
     },
     "metadata": {},
     "output_type": "display_data"
    }
   ],
   "source": [
    "# 실수만 처리 가능하다.\n",
    "display(step_function(10))\n",
    "\n",
    "# 인자로 넘겨받는 다음 함수는 넘파이 배열을 인수로 넣을 수는 없다. (에러발생)\n",
    "# display(step_function(np.array([1, 5, -10])))"
   ]
  },
  {
   "cell_type": "code",
   "execution_count": 16,
   "metadata": {},
   "outputs": [],
   "source": [
    "def step_function(x):\n",
    "    y = x > 0\n",
    "    return y.astype(np.int)"
   ]
  },
  {
   "cell_type": "code",
   "execution_count": 18,
   "metadata": {},
   "outputs": [
    {
     "data": {
      "text/plain": [
       "array([1, 1, 0])"
      ]
     },
     "metadata": {},
     "output_type": "display_data"
    }
   ],
   "source": [
    "display(step_function(np.array([1, 5, -10])))"
   ]
  },
  {
   "cell_type": "markdown",
   "metadata": {},
   "source": [
    "### 3.2.3 계단 함수의 그래프"
   ]
  },
  {
   "cell_type": "code",
   "execution_count": 28,
   "metadata": {},
   "outputs": [
    {
     "data": {
      "image/png": "[encoded data removed]",
      "text/plain": [
       "<Figure size 432x288 with 1 Axes>"
      ]
     },
     "metadata": {
      "needs_background": "light"
     },
     "output_type": "display_data"
    }
   ],
   "source": [
    "def step_function(x):\n",
    "    return np.array(x > 0, dtype=np.int)\n",
    "\n",
    "x = np.arange(-5.0, 5.0, 0.1)\n",
    "y = step_function(x)\n",
    "\n",
    "plt.plot(x, y)\n",
    "plt.ylim(-0.1, 1.1)\n",
    "\n",
    "plt.show()"
   ]
  },
  {
   "cell_type": "markdown",
   "metadata": {},
   "source": [
    "### 3.2.4 시그모이드 함수 구현하기"
   ]
  },
  {
   "cell_type": "code",
   "execution_count": 18,
   "metadata": {},
   "outputs": [],
   "source": [
    "def sigmoid(x):\n",
    "    return 1 / (1 + np.exp(-x))"
   ]
  },
  {
   "cell_type": "code",
   "execution_count": 32,
   "metadata": {},
   "outputs": [
    {
     "data": {
      "text/plain": [
       "array([0.26894142, 0.73105858, 0.88079708])"
      ]
     },
     "execution_count": 32,
     "metadata": {},
     "output_type": "execute_result"
    }
   ],
   "source": [
    "x = np.array([-1.0, 1.0, 2.0])\n",
    "sigmoid(x)"
   ]
  },
  {
   "cell_type": "code",
   "execution_count": 34,
   "metadata": {},
   "outputs": [
    {
     "data": {
      "text/plain": [
       "array([1.        , 0.5       , 0.33333333])"
      ]
     },
     "execution_count": 34,
     "metadata": {},
     "output_type": "execute_result"
    }
   ],
   "source": [
    "# 시그모이드 함수 원리\n",
    "# (1 + np.exp(-x)) 는 결국 넘파이 배열을 반환해주고, 이는 브로드 캐스트 기능을 통하여 연산된 넘파이 배열 결과로 반환한다.\n",
    "t = np.array([1.0, 2.0, 3.0])\n",
    "1 / t"
   ]
  },
  {
   "cell_type": "code",
   "execution_count": 36,
   "metadata": {},
   "outputs": [
    {
     "data": {
      "image/png": "[encoded data removed]",
      "text/plain": [
       "<Figure size 432x288 with 1 Axes>"
      ]
     },
     "metadata": {
      "needs_background": "light"
     },
     "output_type": "display_data"
    }
   ],
   "source": [
    "x = np.arange(-5.0, 5.0, 0.1)\n",
    "y = sigmoid(x)\n",
    "\n",
    "plt.plot(x, y)\n",
    "plt.ylim(-0.1, 1.1)\n",
    "\n",
    "plt.show()"
   ]
  },
  {
   "cell_type": "markdown",
   "metadata": {},
   "source": [
    "### 짚고가기\n",
    "시그모이드란 'S자 모양'이라는 뜻이다."
   ]
  },
  {
   "cell_type": "markdown",
   "metadata": {},
   "source": [
    "### 3.2.5 시그모이드 함수와 계단 함수 비교\n",
    "* 시그모이드 함수  \n",
    "    - 부드러운 곡선 형태\n",
    "    - 출력이 연속적으로 변화\n",
    "    - 실수를 반환함  \n",
    "    \n",
    "    \n",
    "* 계단 함수\n",
    "    - 0 또는 1을 반환\n",
    "    \n",
    "    \n",
    "* 공통점\n",
    "    - 입력이 작을 때는 출력이 0에 가깝다(혹은 0이 되는)\n",
    "    - 입력이 커지면 출력이 1에 가깝다(혹은 1이되는)\n",
    "    - 비선형 함수\n",
    "    \n",
    "    \n",
    "* 차이점\n",
    "    - 매끄러움"
   ]
  },
  {
   "cell_type": "markdown",
   "metadata": {},
   "source": [
    "### 3.2.6 비선형 함수\n",
    "**※ NOTE**  \n",
    "함수란 어떤 값을 입력하면 그에 따른 값을 돌려주는 '변환기'이다. 이 변환기에 무언갈 입력했을 때 출력이 입력의 상수배만큼 변하는 함수를 **선형 함수**라고 한다. 수식으로는 $f(x) = ax + b$이고, 이때 a와 b는 상수이다. 그래서 선형 함수는 곧은 1개의 직선이 된다. **비선형 함수**는 직선 1개로는 그릴 수 없는 함수를 말한다.\n",
    "\n",
    "신경망에서는 활성화 함수로 비선형 함수를 사용해야 한다. 왜냐하면 신경망의 층을 깊게하는 의미가 없기 때문이다.  \n",
    "선형 함수인 $h(x) = cx$를 활성화 함수로 사용한 3층 네트워크를 떠올려보자. 이를 식으로 표현하면 $y = h(h(h(x)))$가 된다.  \n",
    "$y = c * c * c * x$처럼 곱셈을 세 번 수행하지만, 실은 $y(x) = ax$와 같은 식이다. $a = c^3$이라고만 하면 끝이기 때문이다.\n",
    "\n",
    "그러므로, 활성화 함수로는 비선형 함수를 사용한다."
   ]
  },
  {
   "cell_type": "markdown",
   "metadata": {},
   "source": [
    "### 3.2.7 ReLU 함수\n",
    "시그모이드 함수는 신경망 분야에서 오래전부터 이용해왔으나, 최근에는 **ReLU**<sup>Rectified Linear Unit, 렐루</sup> 함수를 주로 이용한다.  \n",
    "ReLU는 입력이 0을 넘으면 그 입력을 그대로 출력하고, 0 이하이면 0을 출력하는 함수다.\n",
    "\n",
    "**[식 3.7]**  \n",
    "$\n",
    "h(x)=\n",
    "\\begin{cases}\n",
    "x & (x > 0) \\\\\n",
    "0 & (x <=0)\n",
    "\\end{cases}\n",
    "$"
   ]
  },
  {
   "cell_type": "code",
   "execution_count": 3,
   "metadata": {},
   "outputs": [],
   "source": [
    "def relu(x):\n",
    "    return np.maximum(0, x)"
   ]
  },
  {
   "cell_type": "markdown",
   "metadata": {},
   "source": [
    "## 3.3 다차원 배열의 계산\n",
    "### 3.3.1 다차원 배열"
   ]
  },
  {
   "cell_type": "code",
   "execution_count": 7,
   "metadata": {},
   "outputs": [
    {
     "name": "stdout",
     "output_type": "stream",
     "text": [
      "[1 2 3 4]\n",
      "A 배열의 차원 1\n",
      "A 배열의 행과 열 (4,)\n",
      "A 배열의 행과 열 중 행의 개수 4\n"
     ]
    }
   ],
   "source": [
    "A = np.array([1, 2, 3, 4])\n",
    "print(A)\n",
    "\n",
    "print(\"A 배열의 차원\", np.ndim(A))\n",
    "print(\"A 배열의 행과 열\", A.shape)\n",
    "print(\"A 배열의 행과 열 중 행의 개수\", A.shape[0])"
   ]
  },
  {
   "cell_type": "code",
   "execution_count": 8,
   "metadata": {},
   "outputs": [
    {
     "name": "stdout",
     "output_type": "stream",
     "text": [
      "[[1 2]\n",
      " [3 4]\n",
      " [5 6]]\n",
      "B 배열의 차원 2\n",
      "B 배열의 행과 열 (3, 2)\n",
      "B 배열의 행과 열 중 행의 개수 3\n"
     ]
    }
   ],
   "source": [
    "B = np.array([[1,2], [3,4], [5,6]])\n",
    "print(B)\n",
    "\n",
    "print(\"B 배열의 차원\", np.ndim(B))\n",
    "print(\"B 배열의 행과 열\", B.shape)\n",
    "print(\"B 배열의 행과 열 중 행의 개수\", B.shape[0])"
   ]
  },
  {
   "cell_type": "markdown",
   "metadata": {},
   "source": [
    "### 3.3.2 행렬의 곱"
   ]
  },
  {
   "cell_type": "code",
   "execution_count": 9,
   "metadata": {},
   "outputs": [
    {
     "data": {
      "text/plain": [
       "array([[19, 22],\n",
       "       [43, 50]])"
      ]
     },
     "execution_count": 9,
     "metadata": {},
     "output_type": "execute_result"
    }
   ],
   "source": [
    "A = np.array([[1, 2], [3, 4]])\n",
    "B = np.array([[5, 6], [7, 8]])\n",
    "\n",
    "np.dot(A, B)"
   ]
  },
  {
   "cell_type": "code",
   "execution_count": 3,
   "metadata": {},
   "outputs": [
    {
     "data": {
      "text/plain": [
       "array([[22, 28],\n",
       "       [49, 64]])"
      ]
     },
     "execution_count": 3,
     "metadata": {},
     "output_type": "execute_result"
    }
   ],
   "source": [
    "A = np.array([[1, 2, 3], [4, 5, 6]])\n",
    "B = np.array([[1, 2], [3, 4], [5, 6]])\n",
    "\n",
    "np.dot(A, B)"
   ]
  },
  {
   "cell_type": "markdown",
   "metadata": {},
   "source": [
    "### ※ 주의할점\n",
    "행렬 A 의 1번째 차원의 원소 수(열 수)와 행렬 B의 0번째 차원의 원소 수(행 수)가 같아야 한다."
   ]
  },
  {
   "cell_type": "code",
   "execution_count": 5,
   "metadata": {},
   "outputs": [
    {
     "name": "stdout",
     "output_type": "stream",
     "text": [
      "(2, 3)\n",
      "(2, 2)\n"
     ]
    }
   ],
   "source": [
    "A = np.array([[1, 2, 3], [4, 5, 6]])\n",
    "print(A.shape)\n",
    "\n",
    "C = np.array([[1,2], [3,4]])\n",
    "print(C.shape)"
   ]
  },
  {
   "cell_type": "code",
   "execution_count": 9,
   "metadata": {},
   "outputs": [
    {
     "ename": "ValueError",
     "evalue": "shapes (2,3) and (2,2) not aligned: 3 (dim 1) != 2 (dim 0)",
     "output_type": "error",
     "traceback": [
      "\u001b[1;31m---------------------------------------------------------------------------\u001b[0m",
      "\u001b[1;31mValueError\u001b[0m                                Traceback (most recent call last)",
      "\u001b[1;32m<ipython-input-9-f0340cbff4e0>\u001b[0m in \u001b[0;36m<module>\u001b[1;34m\u001b[0m\n\u001b[0;32m      1\u001b[0m \u001b[1;31m# 다음과 같은 에러발생\u001b[0m\u001b[1;33m\u001b[0m\u001b[1;33m\u001b[0m\u001b[1;33m\u001b[0m\u001b[0m\n\u001b[1;32m----> 2\u001b[1;33m \u001b[0mnp\u001b[0m\u001b[1;33m.\u001b[0m\u001b[0mdot\u001b[0m\u001b[1;33m(\u001b[0m\u001b[0mA\u001b[0m\u001b[1;33m,\u001b[0m \u001b[0mC\u001b[0m\u001b[1;33m)\u001b[0m\u001b[1;33m\u001b[0m\u001b[1;33m\u001b[0m\u001b[0m\n\u001b[0m",
      "\u001b[1;31mValueError\u001b[0m: shapes (2,3) and (2,2) not aligned: 3 (dim 1) != 2 (dim 0)"
     ]
    }
   ],
   "source": [
    "# 다음과 같은 에러발생\n",
    "# np.dot(A, C)"
   ]
  },
  {
   "cell_type": "markdown",
   "metadata": {},
   "source": [
    "### 3.3.3 신경망에서의 행렬 곱"
   ]
  },
  {
   "cell_type": "code",
   "execution_count": 13,
   "metadata": {},
   "outputs": [
    {
     "name": "stdout",
     "output_type": "stream",
     "text": [
      "[1 2]\n",
      "(2,)\n",
      "[[1 3 5]\n",
      " [2 4 6]]\n",
      "(2, 3)\n",
      "[ 5 11 17]\n"
     ]
    }
   ],
   "source": [
    "X = np.array([1, 2])\n",
    "print(X)\n",
    "print(X.shape)\n",
    "\n",
    "W = np.array([[1, 3, 5], [2, 4, 6]])\n",
    "print(W)\n",
    "print(W.shape)\n",
    "\n",
    "y = np.dot(X, W)\n",
    "print(y)"
   ]
  },
  {
   "cell_type": "markdown",
   "metadata": {},
   "source": [
    "## 3.4 3층 신경망 구현하기\n",
    "### 3.4.2 각 층의 신호 전달 구현하기\n",
    "\n",
    "**[식 3.8]**  \n",
    "$a_1^{(1)} = w_{11}^{(1)}x_1 + w_{12}^{(1)}x_2 + b_1^{(1)}$\n",
    "\n",
    "행렬의 곱을 이용하여 1층의 '가중치 부분'을 다음 식처럼 간소화할 수 있다.\n",
    "\n",
    "**[식 3.9]**  \n",
    "$A^{(1)} = XW^{(1)} + B^{(1)}$\n",
    "\n",
    "\n",
    "$\n",
    "A^{(1)} = (a_1^{(1)} \\space a_2^{(1)} \\space a_1^{(1)}), \\space X = (x_1 \\space x_2), \\space B^{(1)} = (b_1^{(1)} \\space  b_2^{(1)} \\space  b_3^{(1)})\n",
    "$\n",
    "\n",
    "$\n",
    "W^{(1)} =\n",
    "\\left (\n",
    "\\begin{align}\n",
    "w_{(11)} \\space w_{(12)} \\space w_{(13)} \\\\\n",
    "w_{(21)} \\space w_{(22)} \\space w_{(23)}\n",
    "\\end{align}\n",
    "\\right )\n",
    "$"
   ]
  },
  {
   "cell_type": "code",
   "execution_count": 17,
   "metadata": {},
   "outputs": [
    {
     "name": "stdout",
     "output_type": "stream",
     "text": [
      "(2, 3)\n",
      "(3,)\n"
     ]
    },
    {
     "data": {
      "text/plain": [
       "array([0.3, 0.7, 1.1])"
      ]
     },
     "execution_count": 17,
     "metadata": {},
     "output_type": "execute_result"
    }
   ],
   "source": [
    "X = np.array([1.0, 0.5])\n",
    "W1 = np.array([[0.1, 0.3, 0.5], [0.2, 0.4, 0.6]])\n",
    "B1 = np.array([0.1, 0.2, 0.3])\n",
    "\n",
    "print(W1.shape)\n",
    "print(B1.shape)\n",
    "\n",
    "A1 = np.dot(X, W1) + B1\n",
    "A1"
   ]
  },
  {
   "cell_type": "code",
   "execution_count": 19,
   "metadata": {},
   "outputs": [
    {
     "data": {
      "text/plain": [
       "array([0.57444252, 0.66818777, 0.75026011])"
      ]
     },
     "execution_count": 19,
     "metadata": {},
     "output_type": "execute_result"
    }
   ],
   "source": [
    "Z1 = sigmoid(A1)\n",
    "Z1"
   ]
  },
  {
   "cell_type": "code",
   "execution_count": 24,
   "metadata": {},
   "outputs": [
    {
     "data": {
      "text/plain": [
       "array([0.51615984, 1.21402696])"
      ]
     },
     "execution_count": 24,
     "metadata": {},
     "output_type": "execute_result"
    }
   ],
   "source": [
    "W2 = np.array([[0.1, 0.4], [0.2, 0.5], [0.3, 0.6]])\n",
    "B2 = np.array([0.1, 0.2])\n",
    "\n",
    "A2 = np.dot(Z1, W2) + B2\n",
    "A2"
   ]
  },
  {
   "cell_type": "code",
   "execution_count": 25,
   "metadata": {},
   "outputs": [
    {
     "data": {
      "text/plain": [
       "array([0.62624937, 0.7710107 ])"
      ]
     },
     "execution_count": 25,
     "metadata": {},
     "output_type": "execute_result"
    }
   ],
   "source": [
    "Z2 = sigmoid(A2)\n",
    "Z2"
   ]
  },
  {
   "cell_type": "code",
   "execution_count": 26,
   "metadata": {},
   "outputs": [],
   "source": [
    "def identity_function(x):\n",
    "    return x"
   ]
  },
  {
   "cell_type": "code",
   "execution_count": 27,
   "metadata": {},
   "outputs": [
    {
     "data": {
      "text/plain": [
       "array([0.31682708, 0.69627909])"
      ]
     },
     "execution_count": 27,
     "metadata": {},
     "output_type": "execute_result"
    }
   ],
   "source": [
    "W3 = np.array([[0.1, 0.3], [0.2, 0.4]])\n",
    "B3 = np.array([0.1, 0.2])\n",
    "\n",
    "A3 = np.dot(Z2, W3) + B3\n",
    "A3"
   ]
  },
  {
   "cell_type": "code",
   "execution_count": 28,
   "metadata": {},
   "outputs": [
    {
     "data": {
      "text/plain": [
       "array([0.31682708, 0.69627909])"
      ]
     },
     "execution_count": 28,
     "metadata": {},
     "output_type": "execute_result"
    }
   ],
   "source": [
    "Y = identity_function(A3)\n",
    "Y"
   ]
  },
  {
   "cell_type": "markdown",
   "metadata": {},
   "source": [
    "### 3.4.3 구현 정리"
   ]
  },
  {
   "cell_type": "code",
   "execution_count": 29,
   "metadata": {},
   "outputs": [
    {
     "name": "stdout",
     "output_type": "stream",
     "text": [
      "[0.31682708 0.69627909]\n"
     ]
    }
   ],
   "source": [
    "def init_network():\n",
    "    network = {}\n",
    "    network['W1'] = np.array([[0.1, 0.3, 0.5], [0.2, 0.4, 0.6]])\n",
    "    network['b1'] = np.array([0.1, 0.2, 0.3])\n",
    "    network['W2'] = np.array([[0.1, 0.4], [0.2, 0.5], [0.3, 0.6]])\n",
    "    network['b2'] = np.array([0.1, 0.2])\n",
    "    network['W3'] = np.array([[0.1, 0.3], [0.2, 0.4]])\n",
    "    network['b3'] = np.array([0.1, 0.2])\n",
    "    \n",
    "    return network\n",
    "\n",
    "def forword(network, x):\n",
    "    W1, W2, W3 = network['W1'], network['W2'], network['W3']\n",
    "    b1, b2, b3 = network['b1'], network['b2'], network['b3']\n",
    "    \n",
    "    a1 = np.dot(x, W1) + b1\n",
    "    z1 = sigmoid(a1)\n",
    "    \n",
    "    a2 = np.dot(z1, W2) + b2\n",
    "    z2 = sigmoid(a2)\n",
    "    \n",
    "    a3 = np.dot(z2, W3) + b3\n",
    "    y = identity_function(a3)\n",
    "    \n",
    "    return y\n",
    "\n",
    "network = init_network()\n",
    "x = np.array([1.0, 0.5])\n",
    "y = forword(network, x)\n",
    "print(y)"
   ]
  },
  {
   "cell_type": "code",
   "execution_count": null,
   "metadata": {},
   "outputs": [],
   "source": []
  },
  {
   "cell_type": "code",
   "execution_count": null,
   "metadata": {},
   "outputs": [],
   "source": []
  }
 ],
 "metadata": {
  "kernelspec": {
   "display_name": "Python 3",
   "language": "python",
   "name": "python3"
  },
  "language_info": {
   "codemirror_mode": {
    "name": "ipython",
    "version": 3
   },
   "file_extension": ".py",
   "mimetype": "text/x-python",
   "name": "python",
   "nbconvert_exporter": "python",
   "pygments_lexer": "ipython3",
   "version": "3.7.1"
  }
 },
 "nbformat": 4,
 "nbformat_minor": 2
}
